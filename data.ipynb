{
 "cells": [
  {
   "cell_type": "markdown",
   "metadata": {},
   "source": [
    "# 剔除缺失数据"
   ]
  },
  {
   "cell_type": "code",
   "execution_count": null,
   "metadata": {},
   "outputs": [],
   "source": [
    "import os\n",
    "import numpy as np\n",
    "import pandas as pd\n",
    "import h5py\n",
    "#读取数据\n",
    "data = pd.read_excel('data\\\\2015年5,6月数据具体完整版.xlsx','9')\n",
    "d=data.values\n",
    "f=d[:,-1]\n",
    "\n",
    "#剔除缺失数据\n",
    "indexs=np.where(f<5)\n",
    "index=indexs[0]\n",
    "\n",
    "ids=set(range(d.shape[0]))-set(index)\n",
    "ids=list(ids)\n",
    "w_data=d[ids,1:]\n",
    "x=w_data[:,:2]\n",
    "y=w_data[:,-1]\n",
    "\n",
    "#将处理数据存为H5\n",
    "dx=np.asarray(x.tolist)\n",
    "dy=np.asarray(y.tolist())\n",
    "dy=dy[:,np.newaxis]\n",
    "f=h5py.File('data/fit.h5','w')\n",
    "f.create_dataset('x',data=dx)\n",
    "f.create_dataset('y',data=dy)\n",
    "f.close()\n"
   ]
  },
  {
   "cell_type": "markdown",
   "metadata": {},
   "source": [
    "# 用神经网络补全数据\n",
    "## untitled0.py为补全神经网络"
   ]
  },
  {
   "cell_type": "code",
   "execution_count": null,
   "metadata": {},
   "outputs": [],
   "source": [
    "import os\n",
    "import numpy as np\n",
    "import pandas as pd\n",
    "data = pd.read_excel('data\\\\2015年5,6月数据具体完整版.xlsx','9')\n",
    "d=data.values\n",
    "f=d[:,-1]\n",
    "f=np.asarray(f)\n",
    "indexs=np.where(f<5)\n",
    "index=indexs[0]\n",
    "\n",
    "index=list(index)\n",
    "xt=np.asarray(d[index,1:3].tolist())\n",
    "#根据自己的目录自行添加修改\n",
    "runfile('C:/Users/Leslie/untitled0.py', wdir='C:/Users/Leslie')\n",
    "\n",
    "data=np.asarray(data.tolist())\n",
    "data=np.asarray(d.tolist())\n",
    "data=np.asarray(d[:,1:].tolist())\n",
    "d1=data.copy()\n",
    "out=np.squeeze(out)\n",
    "out1=out.copy()\n",
    "out1=np.round(out1,2)\n",
    "for i,v in enumerate(index):\n",
    "    d1[v,-1]=out1[i]\n",
    "x=d1\n",
    "y=d1[:,-1][:,np.newaxis]\n",
    "import h5py\n",
    "f=h5py.File('data/twomonthes.h5','w')\n",
    "f.create_dataset('x',data=x)\n",
    "f.create_dataset('y',data=y)\n",
    "f.close()"
   ]
  },
  {
   "cell_type": "markdown",
   "metadata": {},
   "source": [
    "# 将数据按seq_length=10划分"
   ]
  },
  {
   "cell_type": "code",
   "execution_count": null,
   "metadata": {},
   "outputs": [],
   "source": [
    "import h5py\n",
    "f=h5py.File('data/twomonthes.h5','r')\n",
    "x=f['x'][:]\n",
    "y=f['y'][:]\n",
    "data_x=x.copy()\n",
    "data_y=y.copy()\n",
    "seq_length=10\n",
    "\n",
    "x,y=[],[]\n",
    "for i in range(data_x.shape[0]-seq_length-1):\n",
    "    x.append(data_x[i:seq_length+i])\n",
    "    y.append(data_y[i+1:seq_length+i+1])\n",
    "x=np.asarray(x)\n",
    "y=np.asarray(y)\n",
    "import numpy as np\n",
    "x=np.asarray(x)\n",
    "y=np.asarray(y)\n",
    "f=h5py.File('data/tdata1.h5','w')\n",
    "f.create_dataset('x',data=x)\n",
    "f.create_dataset('y',data=y)\n",
    "f.close()"
   ]
  }
 ],
 "metadata": {
  "kernelspec": {
   "display_name": "Python 3",
   "language": "python",
   "name": "python3"
  },
  "language_info": {
   "codemirror_mode": {
    "name": "ipython",
    "version": 3
   },
   "file_extension": ".py",
   "mimetype": "text/x-python",
   "name": "python",
   "nbconvert_exporter": "python",
   "pygments_lexer": "ipython3",
   "version": "3.6.4"
  }
 },
 "nbformat": 4,
 "nbformat_minor": 2
}
